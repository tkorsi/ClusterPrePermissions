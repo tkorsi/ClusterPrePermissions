{
  "nbformat": 4,
  "nbformat_minor": 0,
  "metadata": {
    "colab": {
      "provenance": [],
      "authorship_tag": "ABX9TyNkpa57+UOVN4G3cqr30Vco",
      "include_colab_link": true
    },
    "kernelspec": {
      "name": "python3",
      "display_name": "Python 3"
    },
    "language_info": {
      "name": "python"
    },
    "widgets": {
      "application/vnd.jupyter.widget-state+json": {
        "f1422bd704b24f7aa8142512c92bb93e": {
          "model_module": "@jupyter-widgets/output",
          "model_name": "OutputModel",
          "model_module_version": "1.0.0",
          "state": {
            "_dom_classes": [],
            "_model_module": "@jupyter-widgets/output",
            "_model_module_version": "1.0.0",
            "_model_name": "OutputModel",
            "_view_count": null,
            "_view_module": "@jupyter-widgets/output",
            "_view_module_version": "1.0.0",
            "_view_name": "OutputView",
            "layout": "IPY_MODEL_89f9e130a5664cd2b70617b767b79309",
            "msg_id": "",
            "outputs": [
              {
                "output_type": "display_data",
                "data": {
                  "text/plain": "                                                                                                                   \n \u001b[1m \u001b[0m\u001b[1mProgress                 \u001b[0m\u001b[1m \u001b[0m \u001b[1m \u001b[0m\u001b[1mDraws\u001b[0m\u001b[1m \u001b[0m \u001b[1m \u001b[0m\u001b[1mDivergences\u001b[0m\u001b[1m \u001b[0m \u001b[1m \u001b[0m\u001b[1mStep size\u001b[0m\u001b[1m \u001b[0m \u001b[1m \u001b[0m\u001b[1mGrad evals\u001b[0m\u001b[1m \u001b[0m \u001b[1m \u001b[0m\u001b[1mSampling Speed\u001b[0m\u001b[1m \u001b[0m \u001b[1m \u001b[0m\u001b[1mElapsed\u001b[0m\u001b[1m \u001b[0m \u001b[1m \u001b[0m\u001b[1mRemaining\u001b[0m\u001b[1m \u001b[0m \n ───────────────────────────────────────────────────────────────────────────────────────────────────────────────── \n  \u001b[38;2;31;119;180m━━━━━━━━━━━━━━━━━━━━━━━━━\u001b[0m   11000   0             0.60        3            473.07 draws/s   0:00:23   0:00:00    \n                                                                                                                   \n",
                  "text/html": "<pre style=\"white-space:pre;overflow-x:auto;line-height:normal;font-family:Menlo,'DejaVu Sans Mono',consolas,'Courier New',monospace\">                                                                                                                   \n <span style=\"font-weight: bold\"> Progress                  </span> <span style=\"font-weight: bold\"> Draws </span> <span style=\"font-weight: bold\"> Divergences </span> <span style=\"font-weight: bold\"> Step size </span> <span style=\"font-weight: bold\"> Grad evals </span> <span style=\"font-weight: bold\"> Sampling Speed </span> <span style=\"font-weight: bold\"> Elapsed </span> <span style=\"font-weight: bold\"> Remaining </span> \n ───────────────────────────────────────────────────────────────────────────────────────────────────────────────── \n  <span style=\"color: #1f77b4; text-decoration-color: #1f77b4\">━━━━━━━━━━━━━━━━━━━━━━━━━</span>   11000   0             0.60        3            473.07 draws/s   0:00:23   0:00:00    \n                                                                                                                   \n</pre>\n"
                },
                "metadata": {}
              }
            ]
          }
        },
        "89f9e130a5664cd2b70617b767b79309": {
          "model_module": "@jupyter-widgets/base",
          "model_name": "LayoutModel",
          "model_module_version": "1.2.0",
          "state": {
            "_model_module": "@jupyter-widgets/base",
            "_model_module_version": "1.2.0",
            "_model_name": "LayoutModel",
            "_view_count": null,
            "_view_module": "@jupyter-widgets/base",
            "_view_module_version": "1.2.0",
            "_view_name": "LayoutView",
            "align_content": null,
            "align_items": null,
            "align_self": null,
            "border": null,
            "bottom": null,
            "display": null,
            "flex": null,
            "flex_flow": null,
            "grid_area": null,
            "grid_auto_columns": null,
            "grid_auto_flow": null,
            "grid_auto_rows": null,
            "grid_column": null,
            "grid_gap": null,
            "grid_row": null,
            "grid_template_areas": null,
            "grid_template_columns": null,
            "grid_template_rows": null,
            "height": null,
            "justify_content": null,
            "justify_items": null,
            "left": null,
            "margin": null,
            "max_height": null,
            "max_width": null,
            "min_height": null,
            "min_width": null,
            "object_fit": null,
            "object_position": null,
            "order": null,
            "overflow": null,
            "overflow_x": null,
            "overflow_y": null,
            "padding": null,
            "right": null,
            "top": null,
            "visibility": null,
            "width": null
          }
        }
      }
    }
  },
  "cells": [
    {
      "cell_type": "markdown",
      "metadata": {
        "id": "view-in-github",
        "colab_type": "text"
      },
      "source": [
        "<a href=\"https://colab.research.google.com/github/tkorsi/ClusterPrePermissions/blob/master/hierarchical%20model.ipynb\" target=\"_parent\"><img src=\"https://colab.research.google.com/assets/colab-badge.svg\" alt=\"Open In Colab\"/></a>"
      ]
    },
    {
      "cell_type": "code",
      "source": [
        "import numpy as np\n",
        "import pandas as pd\n",
        "import pymc as pm\n",
        "import arviz as az\n",
        "import matplotlib.pyplot as plt\n",
        "\n",
        "# 1) Read the data\n",
        "url = \"https://stepik.org/media/attachments/lesson/1251114/euroweight.dat.txt\"\n",
        "euro = pd.read_csv(url, sep=\"\\t\", names=[\"weight\", \"batch\"], index_col=0)\n",
        "\n",
        "# Each 'batch' is an integer 1..8, each with 250 observations\n",
        "print(euro.head())\n",
        "print(euro[\"batch\"].value_counts())\n",
        "\n",
        "# 2) Build the hierarchical model\n",
        "with pm.Model() as model:\n",
        "    # Global hyperparameters\n",
        "    mu_b = pm.Normal(\"mu_b\", mu=0, sigma=100)\n",
        "    sigma_b = pm.HalfNormal(\"sigma_b\", sigma=5)\n",
        "\n",
        "    # Batch-level means\n",
        "    # shape=8 because there are 8 batches\n",
        "    mu_batch = pm.Normal(\"mu_batch\", mu=mu_b, sigma=sigma_b, shape=8)\n",
        "\n",
        "    # Observation-level scale\n",
        "    sigma = pm.HalfNormal(\"sigma\", sigma=10)\n",
        "\n",
        "    # Map each coin's batch to the correct mu_batch index\n",
        "    # The 'batch' column is 1-based, so shift by -1 for 0-based indexing:\n",
        "    batch_idx = euro[\"batch\"].values - 1\n",
        "\n",
        "    # Likelihood for each coin's weight\n",
        "    pm.Normal(\n",
        "        \"obs\",\n",
        "        mu=mu_batch[batch_idx],\n",
        "        sigma=sigma,\n",
        "        observed=euro[\"weight\"].values\n",
        "    )\n",
        "\n",
        "    # 3) Sample from the posterior\n",
        "    trace = pm.sample(10000, chains=1, random_seed=42, progressbar=True)"
      ],
      "metadata": {
        "colab": {
          "base_uri": "https://localhost:8080/",
          "height": 375,
          "referenced_widgets": [
            "f1422bd704b24f7aa8142512c92bb93e",
            "89f9e130a5664cd2b70617b767b79309"
          ]
        },
        "id": "qH0p0JHxxn0B",
        "outputId": "c78eed9e-f1f5-4c04-8318-2f2f30661c4c"
      },
      "execution_count": 11,
      "outputs": [
        {
          "output_type": "stream",
          "name": "stdout",
          "text": [
            "   weight  batch\n",
            "1   7.512      1\n",
            "2   7.502      1\n",
            "3   7.461      1\n",
            "4   7.562      1\n",
            "5   7.528      1\n",
            "batch\n",
            "1    250\n",
            "2    250\n",
            "3    250\n",
            "4    250\n",
            "5    250\n",
            "6    250\n",
            "7    250\n",
            "8    250\n",
            "Name: count, dtype: int64\n"
          ]
        },
        {
          "output_type": "display_data",
          "data": {
            "text/plain": [
              "Output()"
            ],
            "application/vnd.jupyter.widget-view+json": {
              "version_major": 2,
              "version_minor": 0,
              "model_id": "f1422bd704b24f7aa8142512c92bb93e"
            }
          },
          "metadata": {}
        },
        {
          "output_type": "display_data",
          "data": {
            "text/plain": [],
            "text/html": [
              "<pre style=\"white-space:pre;overflow-x:auto;line-height:normal;font-family:Menlo,'DejaVu Sans Mono',consolas,'Courier New',monospace\"></pre>\n"
            ]
          },
          "metadata": {}
        }
      ]
    },
    {
      "cell_type": "code",
      "source": [
        "\n",
        "# 4) Summarize\n",
        "print(az.summary(trace, var_names=[\"mu_b\", \"sigma_b\", \"mu_batch\", \"sigma\"]))\n",
        "\n",
        "# --- Identify the highest and lowest posterior means among the 8 mu_batch ---\n",
        "# 'trace.posterior[\"mu_batch\"]' typically has shape (chain, draw, 8)\n",
        "post_mu_batch = trace.posterior[\"mu_batch\"].values  # numpy array\n",
        "# We get the mean across chain/draw for each of the 8 batch means:\n",
        "batch_means = post_mu_batch.mean(axis=(0, 1))  # shape: (8,)\n",
        "\n",
        "i_max = np.argmax(batch_means)  # index of highest mean\n",
        "i_min = np.argmin(batch_means)  # index of lowest mean\n",
        "\n",
        "print(\"\\nPosterior mean of mu_batch:\", batch_means)\n",
        "print(f\"Highest batch index: {i_max}, mean={batch_means[i_max]:.4f}\")\n",
        "print(f\"Lowest  batch index: {i_min}, mean={batch_means[i_min]:.4f}\")\n",
        "\n"
      ],
      "metadata": {
        "colab": {
          "base_uri": "https://localhost:8080/"
        },
        "id": "VQsS7Uv-yHhW",
        "outputId": "c13d550c-ac69-4e56-ce9c-2996ea323be9"
      },
      "execution_count": 12,
      "outputs": [
        {
          "output_type": "stream",
          "name": "stderr",
          "text": [
            "Shape validation failed: input_shape: (1, 10000), minimum_shape: (chains=2, draws=4)\n"
          ]
        },
        {
          "output_type": "stream",
          "name": "stdout",
          "text": [
            "              mean     sd  hdi_3%  hdi_97%  mcse_mean  mcse_sd  ess_bulk  \\\n",
            "mu_b         7.521  0.003   7.515    7.528        0.0      0.0   10458.0   \n",
            "sigma_b      0.009  0.003   0.004    0.015        0.0      0.0    9629.0   \n",
            "mu_batch[0]  7.520  0.002   7.516    7.524        0.0      0.0   15868.0   \n",
            "mu_batch[1]  7.523  0.002   7.519    7.527        0.0      0.0   16248.0   \n",
            "mu_batch[2]  7.510  0.002   7.506    7.514        0.0      0.0   14000.0   \n",
            "mu_batch[3]  7.530  0.002   7.526    7.534        0.0      0.0   16683.0   \n",
            "mu_batch[4]  7.531  0.002   7.527    7.535        0.0      0.0   14823.0   \n",
            "mu_batch[5]  7.516  0.002   7.512    7.520        0.0      0.0   14704.0   \n",
            "mu_batch[6]  7.523  0.002   7.519    7.527        0.0      0.0   18092.0   \n",
            "mu_batch[7]  7.517  0.002   7.513    7.521        0.0      0.0   16326.0   \n",
            "sigma        0.034  0.001   0.033    0.035        0.0      0.0   16137.0   \n",
            "\n",
            "             ess_tail  r_hat  \n",
            "mu_b           6973.0    NaN  \n",
            "sigma_b        6954.0    NaN  \n",
            "mu_batch[0]    7166.0    NaN  \n",
            "mu_batch[1]    7494.0    NaN  \n",
            "mu_batch[2]    8053.0    NaN  \n",
            "mu_batch[3]    8241.0    NaN  \n",
            "mu_batch[4]    7113.0    NaN  \n",
            "mu_batch[5]    7732.0    NaN  \n",
            "mu_batch[6]    6730.0    NaN  \n",
            "mu_batch[7]    7456.0    NaN  \n",
            "sigma          7629.0    NaN  \n",
            "\n",
            "Posterior mean of mu_batch: [7.51975542 7.52304536 7.51037049 7.53043875 7.53071383 7.51566318\n",
            " 7.52288583 7.51702768]\n",
            "Highest batch index: 4, mean=7.5307\n",
            "Lowest  batch index: 2, mean=7.5104\n"
          ]
        }
      ]
    },
    {
      "cell_type": "code",
      "source": [
        "\n",
        "# 5) Compute mu_i - mu_j for each MCMC sample\n",
        "mu_i_samples = post_mu_batch[..., i_max]  # shape (chain, draw)\n",
        "mu_j_samples = post_mu_batch[..., i_min]\n",
        "diff_samples = mu_i_samples - mu_j_samples  # shape (chain, draw)\n",
        "\n",
        "# Flatten across chains and draws\n",
        "diff_samples_1d = diff_samples.flatten()\n",
        "\n",
        "# 6) 95% HDI for the difference\n",
        "hdi_95 = az.hdi(diff_samples_1d, hdi_prob=0.95)\n",
        "diff_lower, diff_upper = hdi_95[0], hdi_95[1]\n",
        "\n",
        "print(f\"\\n95% credible interval for mu_{i_max} - mu_{i_min}:\")\n",
        "print(f\"[{diff_lower:.4f}, {diff_upper:.4f}]\")\n",
        "\n",
        "# 7) Check whether the interval contains 0\n",
        "if diff_lower <= 0 <= diff_upper:\n",
        "    print(\"The 95% interval contains 0.\")\n",
        "else:\n",
        "    print(\"The 95% interval does NOT contain 0.\")\n",
        "\n",
        "# 8) Also compute E[ mu_i ]\n",
        "mu_i_mean = mu_i_samples.mean()  # average across chain & draws\n",
        "print(f\"\\nE[ mu_{i_max} ] = {mu_i_mean:.4f}\")"
      ],
      "metadata": {
        "colab": {
          "base_uri": "https://localhost:8080/"
        },
        "id": "VIl1Nq9GyKnN",
        "outputId": "30f11de6-c149-48dc-e9c6-27ebb53bea66"
      },
      "execution_count": 13,
      "outputs": [
        {
          "output_type": "stream",
          "name": "stdout",
          "text": [
            "\n",
            "95% credible interval for mu_4 - mu_2:\n",
            "[0.0143, 0.0264]\n",
            "The 95% interval does NOT contain 0.\n",
            "\n",
            "E[ mu_4 ] = 7.5307\n"
          ]
        }
      ]
    },
    {
      "cell_type": "code",
      "source": [
        "\n",
        "# 9) Plot the posterior for the difference (optional)\n",
        "az.plot_posterior(diff_samples_1d, hdi_prob=0.95)\n",
        "plt.title(f\"Posterior of mu_{i_max} - mu_{i_min}\")\n",
        "plt.show()\n"
      ],
      "metadata": {
        "id": "KyONHnxEyL9d"
      },
      "execution_count": null,
      "outputs": []
    }
  ]
}